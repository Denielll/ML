{
 "cells": [
  {
   "cell_type": "code",
   "execution_count": 1,
   "metadata": {
    "collapsed": true
   },
   "outputs": [],
   "source": [
    "# 參考資料：http://blog.datadive.net/selecting-good-features-part-i-univariate-selection/"
   ]
  },
  {
   "cell_type": "code",
   "execution_count": 2,
   "metadata": {
    "collapsed": true
   },
   "outputs": [],
   "source": [
    "import numpy as np\n",
    "import matplotlib.pyplot as plt\n",
    "%matplotlib inline\n",
    "import pandas as pd"
   ]
  },
  {
   "cell_type": "markdown",
   "metadata": {},
   "source": [
    "#  <font color=\"red\">Part I: univariate selection</font>"
   ]
  },
  {
   "cell_type": "code",
   "execution_count": 431,
   "metadata": {
    "collapsed": true
   },
   "outputs": [],
   "source": [
    "# 這部分請看參考資料.. 感覺不是一個好方法"
   ]
  },
  {
   "cell_type": "code",
   "execution_count": null,
   "metadata": {
    "collapsed": true
   },
   "outputs": [],
   "source": []
  },
  {
   "cell_type": "markdown",
   "metadata": {},
   "source": [
    "# <font color=\"red\"> Part II: linear models and regularization </font>"
   ]
  },
  {
   "cell_type": "markdown",
   "metadata": {},
   "source": [
    "#### 最簡單的Linear regression, 係數越高，代表這個變數應該越重要。 不過不適合有highly correlated的情況存在時用"
   ]
  },
  {
   "cell_type": "code",
   "execution_count": 2,
   "metadata": {
    "collapsed": true
   },
   "outputs": [],
   "source": [
    "from sklearn.linear_model import LinearRegression\n",
    "import numpy as np"
   ]
  },
  {
   "cell_type": "code",
   "execution_count": 205,
   "metadata": {
    "collapsed": true
   },
   "outputs": [],
   "source": [
    "np.random.seed(0)\n",
    "size = 1000"
   ]
  },
  {
   "cell_type": "code",
   "execution_count": 57,
   "metadata": {
    "collapsed": true
   },
   "outputs": [],
   "source": [
    "x = np.random.normal(0,1,(size,3)) # (size,3)是形狀\n",
    "y = x[:,0]+2*x[:,1]+np.random.normal(0,2,size)"
   ]
  },
  {
   "cell_type": "code",
   "execution_count": 58,
   "metadata": {
    "collapsed": true
   },
   "outputs": [],
   "source": [
    "lr = LinearRegression()"
   ]
  },
  {
   "cell_type": "code",
   "execution_count": 59,
   "metadata": {},
   "outputs": [
    {
     "data": {
      "text/plain": [
       "LinearRegression(copy_X=True, fit_intercept=True, n_jobs=1, normalize=False)"
      ]
     },
     "execution_count": 59,
     "metadata": {},
     "output_type": "execute_result"
    }
   ],
   "source": [
    "lr.fit(x,y)  # x有3個columns, 所以會配3個係數（ 不包含 intercept"
   ]
  },
  {
   "cell_type": "code",
   "execution_count": 60,
   "metadata": {},
   "outputs": [
    {
     "data": {
      "text/plain": [
       "array([ 0.98631784,  1.96990009,  0.09119265])"
      ]
     },
     "execution_count": 60,
     "metadata": {},
     "output_type": "execute_result"
    }
   ],
   "source": [
    "lr.coef_  # 注意看, 只有第一個,第二個係數是準的"
   ]
  },
  {
   "cell_type": "code",
   "execution_count": 61,
   "metadata": {},
   "outputs": [
    {
     "data": {
      "text/plain": [
       "-0.011857925151618834"
      ]
     },
     "execution_count": 61,
     "metadata": {},
     "output_type": "execute_result"
    }
   ],
   "source": [
    "lr.intercept_"
   ]
  },
  {
   "cell_type": "code",
   "execution_count": 63,
   "metadata": {},
   "outputs": [
    {
     "name": "stdout",
     "output_type": "stream",
     "text": [
      "Linear model: 0.986 * X0 + 1.97 * X1 + 0.091 * X2\n"
     ]
    }
   ],
   "source": [
    "#A helper method for pretty-printing linear models\n",
    "\n",
    "def pretty_print_linear(coefs, names = None, sort = False):\n",
    "    if names == None:\n",
    "        names = [\"X%s\" % x for x in range(len(coefs))]\n",
    "    lst = zip(coefs, names)                                  # zip可以是把兩個list包成n個二維tuple。 n = len(list)\n",
    "    if sort:\n",
    "        lst = sorted(lst,  key = lambda x:-np.abs(x[0]))\n",
    "    return \" + \".join(\"%s * %s\" % (round(coef, 3), name)\n",
    "                                   for coef, name in lst)\n",
    " \n",
    "print(\"Linear model:\", pretty_print_linear(lr.coef_))\n"
   ]
  },
  {
   "cell_type": "markdown",
   "metadata": {},
   "source": [
    "#### 有highly correlated版本的，還沒經過調節"
   ]
  },
  {
   "cell_type": "code",
   "execution_count": 428,
   "metadata": {
    "collapsed": true
   },
   "outputs": [],
   "source": [
    "from sklearn.linear_model import LinearRegression\n",
    "\n",
    "size = 100\n",
    "np.random.seed(seed = 5)\n"
   ]
  },
  {
   "cell_type": "code",
   "execution_count": 429,
   "metadata": {
    "collapsed": true
   },
   "outputs": [],
   "source": [
    "x_seed = np.random.normal(0,1,size)\n",
    "x1 = x_seed + np.random.normal(0,1,size)\n",
    "x2 = x_seed + np.random.normal(0,1,size)\n",
    "x3 = x_seed + np.random.normal(0,1,size)\n",
    "\n",
    "y = x1+x2+x3+np.random.normal(0,1,size)\n",
    "x = np.array([x1,x2,x3]).T # 轉置矩陣\n"
   ]
  },
  {
   "cell_type": "code",
   "execution_count": 430,
   "metadata": {},
   "outputs": [
    {
     "name": "stdout",
     "output_type": "stream",
     "text": [
      "Linear model: 0.782 * X0 + 1.072 * X1 + 1.184 * X2\n"
     ]
    }
   ],
   "source": [
    "lr = LinearRegression()\n",
    "lr.fit(x,y)\n",
    "print(\"Linear model:\",pretty_print_linear(lr.coef_))"
   ]
  },
  {
   "cell_type": "code",
   "execution_count": 252,
   "metadata": {
    "collapsed": true
   },
   "outputs": [],
   "source": [
    "#  可看到三個係數都亂七八糟的，雖然他們三個是一樣的"
   ]
  },
  {
   "cell_type": "code",
   "execution_count": 245,
   "metadata": {},
   "outputs": [
    {
     "data": {
      "text/plain": [
       "0.0070843404567377255"
      ]
     },
     "execution_count": 245,
     "metadata": {},
     "output_type": "execute_result"
    }
   ],
   "source": [
    "lr.intercept_"
   ]
  },
  {
   "cell_type": "markdown",
   "metadata": {},
   "source": [
    "#### Linear Regression with regularization"
   ]
  },
  {
   "cell_type": "code",
   "execution_count": 246,
   "metadata": {
    "collapsed": true
   },
   "outputs": [],
   "source": [
    "# Regularization is a method for adding additional constraints or penalty to a model, \n",
    "# with the goal of preventing overfitting and improving generalization"
   ]
  },
  {
   "cell_type": "code",
   "execution_count": 247,
   "metadata": {
    "collapsed": true
   },
   "outputs": [],
   "source": [
    "# Instead of minimizing a loss function E(X,Y), the loss function to minimize becomes E(X,Y)+α‖w‖, \n",
    "# where w is the vector of model coefficients, ‖⋅‖ is typically L1 or L2 norm and α is a tunable free parameter, \n",
    "# specifying the amount of regularization "
   ]
  },
  {
   "cell_type": "code",
   "execution_count": 249,
   "metadata": {
    "collapsed": true
   },
   "outputs": [],
   "source": [
    "# α可經由 Grid Search 調整"
   ]
  },
  {
   "cell_type": "code",
   "execution_count": 251,
   "metadata": {
    "collapsed": true
   },
   "outputs": [],
   "source": [
    "# 參考資料： https://www.analyticsvidhya.com/blog/2016/01/complete-tutorial-ridge-lasso-regression-python/#five"
   ]
  },
  {
   "cell_type": "markdown",
   "metadata": {},
   "source": [
    "## L1 regularization / Lasso"
   ]
  },
  {
   "cell_type": "code",
   "execution_count": 250,
   "metadata": {
    "collapsed": true
   },
   "outputs": [],
   "source": [
    "# 可當作 stepwise regression的一個替代！  可讓某些係數變成0，做feature selection"
   ]
  },
  {
   "cell_type": "code",
   "execution_count": 248,
   "metadata": {
    "collapsed": true
   },
   "outputs": [],
   "source": [
    "# 當有highly correlated features的時候， 如果有small data changes，係數還是會不穩，此時要依靠L2"
   ]
  },
  {
   "cell_type": "code",
   "execution_count": 554,
   "metadata": {},
   "outputs": [
    {
     "data": {
      "text/plain": [
       "Lasso(alpha=0.3, copy_X=True, fit_intercept=True, max_iter=1000,\n",
       "   normalize=False, positive=False, precompute=False, random_state=None,\n",
       "   selection='cyclic', tol=0.0001, warm_start=False)"
      ]
     },
     "execution_count": 554,
     "metadata": {},
     "output_type": "execute_result"
    }
   ],
   "source": [
    "from sklearn.linear_model import Lasso\n",
    "from sklearn.preprocessing import StandardScaler\n",
    "from sklearn.datasets import load_boston\n",
    "\n",
    "boston = load_boston()\n",
    "scaler = StandardScaler()\n",
    "x = scaler.fit_transform(boston[\"data\"])\n",
    "y = boston[\"target\"]\n",
    "names = boston[\"feature_names\"]\n",
    "\n",
    "lasso = Lasso(alpha=.3)\n",
    "lasso.fit(x,y)"
   ]
  },
  {
   "cell_type": "code",
   "execution_count": 555,
   "metadata": {},
   "outputs": [
    {
     "name": "stdout",
     "output_type": "stream",
     "text": [
      "Lasso model: -3.707 * LSTAT + 2.992 * RM + -1.757 * PTRATIO + -1.081 * DIS + -0.7 * NOX + 0.631 * B + 0.54 * CHAS + -0.236 * CRIM + 0.081 * ZN + -0.0 * INDUS + -0.0 * AGE + 0.0 * RAD + -0.0 * TAX\n"
     ]
    },
    {
     "name": "stderr",
     "output_type": "stream",
     "text": [
      "/Users/deniel3678/anaconda3/lib/python3.5/site-packages/ipykernel/__main__.py:4: FutureWarning: comparison to `None` will result in an elementwise object comparison in the future.\n"
     ]
    }
   ],
   "source": [
    "print(\"Lasso model:\", pretty_print_linear(lasso.coef_,names,sort=True))"
   ]
  },
  {
   "cell_type": "markdown",
   "metadata": {},
   "source": [
    "### grid search  for finding the best hyperparameters, say, Alpha in lasso linear regression"
   ]
  },
  {
   "cell_type": "code",
   "execution_count": 556,
   "metadata": {
    "collapsed": true
   },
   "outputs": [],
   "source": [
    "# 數據集可分為 training, validation, testing。 (train+val = 70, test = 30) \n",
    "# validation是用來調 training時的params  (70 做 KFold)\n",
    "# testing是最後一步驟，當model已經有best params，可用來測驗。 此步驟可以比較不同model。  (用70訓練好的，測試30)"
   ]
  },
  {
   "cell_type": "code",
   "execution_count": 557,
   "metadata": {
    "collapsed": true
   },
   "outputs": [],
   "source": [
    "# scoring parameter can be specified.. for example in unbalanced classification, the accuracy score is often uninformative"
   ]
  },
  {
   "cell_type": "code",
   "execution_count": 558,
   "metadata": {
    "collapsed": true
   },
   "outputs": [],
   "source": [
    "# e.g... 試圖把default改成 precision\n",
    "from sklearn.metrics import average_precision_score"
   ]
  },
  {
   "cell_type": "code",
   "execution_count": 559,
   "metadata": {},
   "outputs": [],
   "source": [
    "from sklearn.grid_search import GridSearchCV"
   ]
  },
  {
   "cell_type": "code",
   "execution_count": 560,
   "metadata": {},
   "outputs": [
    {
     "data": {
      "text/plain": [
       "{'alpha': 1.0,\n",
       " 'copy_X': True,\n",
       " 'fit_intercept': True,\n",
       " 'max_iter': 1000,\n",
       " 'normalize': False,\n",
       " 'positive': False,\n",
       " 'precompute': False,\n",
       " 'random_state': None,\n",
       " 'selection': 'cyclic',\n",
       " 'tol': 0.0001,\n",
       " 'warm_start': False}"
      ]
     },
     "execution_count": 560,
     "metadata": {},
     "output_type": "execute_result"
    }
   ],
   "source": [
    "lasso = Lasso()\n",
    "lasso.get_params()"
   ]
  },
  {
   "cell_type": "code",
   "execution_count": 561,
   "metadata": {},
   "outputs": [],
   "source": [
    "parameters = {'alpha': [0.1,0.2,0.3,0.4,0.8]}  # 從這個list之中挑一個最好的"
   ]
  },
  {
   "cell_type": "code",
   "execution_count": 562,
   "metadata": {},
   "outputs": [],
   "source": [
    "cl = GridSearchCV(lasso,parameters,scoring=\"mean_squared_error\")  # scoring是評分依據"
   ]
  },
  {
   "cell_type": "code",
   "execution_count": 563,
   "metadata": {},
   "outputs": [
    {
     "data": {
      "text/plain": [
       "GridSearchCV(cv=None, error_score='raise',\n",
       "       estimator=Lasso(alpha=1.0, copy_X=True, fit_intercept=True, max_iter=1000,\n",
       "   normalize=False, positive=False, precompute=False, random_state=None,\n",
       "   selection='cyclic', tol=0.0001, warm_start=False),\n",
       "       fit_params={}, iid=True, n_jobs=1,\n",
       "       param_grid={'alpha': [0.1, 0.2, 0.3, 0.4, 0.8]},\n",
       "       pre_dispatch='2*n_jobs', refit=True, scoring='mean_squared_error',\n",
       "       verbose=0)"
      ]
     },
     "execution_count": 563,
     "metadata": {},
     "output_type": "execute_result"
    }
   ],
   "source": [
    "cl.fit(x,y)"
   ]
  },
  {
   "cell_type": "code",
   "execution_count": 564,
   "metadata": {},
   "outputs": [
    {
     "data": {
      "text/plain": [
       "[mean: -44.49228, std: 24.85585, params: {'alpha': 0.1},\n",
       " mean: -45.63718, std: 26.79289, params: {'alpha': 0.2},\n",
       " mean: -48.89647, std: 29.36383, params: {'alpha': 0.3},\n",
       " mean: -51.47701, std: 30.62726, params: {'alpha': 0.4},\n",
       " mean: -57.03013, std: 32.50172, params: {'alpha': 0.8}]"
      ]
     },
     "execution_count": 564,
     "metadata": {},
     "output_type": "execute_result"
    }
   ],
   "source": [
    "cl.grid_scores_"
   ]
  },
  {
   "cell_type": "code",
   "execution_count": 566,
   "metadata": {
    "collapsed": true
   },
   "outputs": [],
   "source": [
    "# mse竟然是負的原因...\n",
    "#Whether score_func is a score function (default), meaning high is good, \n",
    "#or a loss function, meaning low is good. In the latter case, the scorer \n",
    "#object will sign-flip the outcome of the score_func.\n",
    "\n",
    "#這邊的mse被當成 scoring function，所以要加一個負號，才能越高越好。"
   ]
  },
  {
   "cell_type": "code",
   "execution_count": 485,
   "metadata": {},
   "outputs": [
    {
     "data": {
      "text/plain": [
       "{'alpha': 0.1}"
      ]
     },
     "execution_count": 485,
     "metadata": {},
     "output_type": "execute_result"
    }
   ],
   "source": [
    "cl.best_params_"
   ]
  },
  {
   "cell_type": "code",
   "execution_count": 487,
   "metadata": {},
   "outputs": [
    {
     "data": {
      "text/plain": [
       "<matplotlib.collections.PathCollection at 0x1048060f0>"
      ]
     },
     "execution_count": 487,
     "metadata": {},
     "output_type": "execute_result"
    },
    {
     "data": {
      "image/png": "[encoded data removed]",
      "text/plain": [
       "<matplotlib.figure.Figure at 0x117ebfb70>"
      ]
     },
     "metadata": {},
     "output_type": "display_data"
    }
   ],
   "source": [
    "plt.scatter(cl.predict(x),y)   # cl.predict是以grid search找出來的best params來預測"
   ]
  },
  {
   "cell_type": "code",
   "execution_count": 488,
   "metadata": {
    "collapsed": true
   },
   "outputs": [],
   "source": [
    "# 詳細文件：http://scikit-learn.org/stable/modules/generated/sklearn.model_selection.GridSearchCV.html#sklearn.model_selection.GridSearchCV"
   ]
  },
  {
   "cell_type": "code",
   "execution_count": null,
   "metadata": {
    "collapsed": true
   },
   "outputs": [],
   "source": []
  },
  {
   "cell_type": "code",
   "execution_count": 551,
   "metadata": {
    "collapsed": true
   },
   "outputs": [],
   "source": [
    "# gridsearch畫圖 小小範例"
   ]
  },
  {
   "cell_type": "code",
   "execution_count": 489,
   "metadata": {
    "collapsed": true
   },
   "outputs": [],
   "source": [
    "from sklearn.svm import SVC\n",
    "from sklearn.grid_search import GridSearchCV\n",
    "from sklearn import datasets\n",
    "import matplotlib.pyplot as plt\n",
    "import seaborn as sns\n",
    "import numpy as np\n",
    "\n",
    "digits = datasets.load_digits()\n",
    "X = digits.data\n",
    "y = digits.target\n",
    "\n",
    "clf_ = SVC(kernel='rbf')\n",
    "Cs = [1, 10, 100, 1000]\n",
    "Gammas = [1e-3, 1e-4]\n",
    "clf = GridSearchCV(clf_,\n",
    "            dict(C=Cs,\n",
    "                 gamma=Gammas),\n",
    "                 cv=2,\n",
    "                 pre_dispatch='1*n_jobs',\n",
    "                 n_jobs=1)\n"
   ]
  },
  {
   "cell_type": "code",
   "execution_count": 490,
   "metadata": {},
   "outputs": [
    {
     "data": {
      "text/plain": [
       "GridSearchCV(cv=2, error_score='raise',\n",
       "       estimator=SVC(C=1.0, cache_size=200, class_weight=None, coef0=0.0,\n",
       "  decision_function_shape=None, degree=3, gamma='auto', kernel='rbf',\n",
       "  max_iter=-1, probability=False, random_state=None, shrinking=True,\n",
       "  tol=0.001, verbose=False),\n",
       "       fit_params={}, iid=True, n_jobs=1,\n",
       "       param_grid={'gamma': [0.001, 0.0001], 'C': [1, 10, 100, 1000]},\n",
       "       pre_dispatch='1*n_jobs', refit=True, scoring=None, verbose=0)"
      ]
     },
     "execution_count": 490,
     "metadata": {},
     "output_type": "execute_result"
    }
   ],
   "source": [
    "clf.fit(X, y)"
   ]
  },
  {
   "cell_type": "code",
   "execution_count": 491,
   "metadata": {},
   "outputs": [
    {
     "data": {
      "text/plain": [
       "SVC(C=10, cache_size=200, class_weight=None, coef0=0.0,\n",
       "  decision_function_shape=None, degree=3, gamma=0.001, kernel='rbf',\n",
       "  max_iter=-1, probability=False, random_state=None, shrinking=True,\n",
       "  tol=0.001, verbose=False)"
      ]
     },
     "execution_count": 491,
     "metadata": {},
     "output_type": "execute_result"
    }
   ],
   "source": [
    "clf.best_estimator_"
   ]
  },
  {
   "cell_type": "code",
   "execution_count": 492,
   "metadata": {
    "collapsed": true
   },
   "outputs": [],
   "source": [
    "scores = [x[1] for x in clf.grid_scores_]"
   ]
  },
  {
   "cell_type": "code",
   "execution_count": 532,
   "metadata": {},
   "outputs": [
    {
     "data": {
      "text/plain": [
       "[0.96048970506399556,\n",
       " 0.9360044518642181,\n",
       " 0.96271563717306619,\n",
       " 0.94546466332776846,\n",
       " 0.96271563717306619,\n",
       " 0.94657762938230383,\n",
       " 0.96271563717306619,\n",
       " 0.94657762938230383]"
      ]
     },
     "execution_count": 532,
     "metadata": {},
     "output_type": "execute_result"
    }
   ],
   "source": [
    "scores"
   ]
  },
  {
   "cell_type": "code",
   "execution_count": 533,
   "metadata": {
    "collapsed": true
   },
   "outputs": [],
   "source": [
    "scores = np.array(scores).reshape(len(Cs), len(Gammas))"
   ]
  },
  {
   "cell_type": "code",
   "execution_count": 543,
   "metadata": {},
   "outputs": [
    {
     "data": {
      "text/plain": [
       "array([[ 0.96048971,  0.93600445],\n",
       "       [ 0.96271564,  0.94546466],\n",
       "       [ 0.96271564,  0.94657763],\n",
       "       [ 0.96271564,  0.94657763]])"
      ]
     },
     "execution_count": 543,
     "metadata": {},
     "output_type": "execute_result"
    }
   ],
   "source": [
    "scores"
   ]
  },
  {
   "cell_type": "code",
   "execution_count": 550,
   "metadata": {},
   "outputs": [
    {
     "data": {
      "text/plain": [
       "array([ 0.96048971,  0.93600445])"
      ]
     },
     "execution_count": 550,
     "metadata": {},
     "output_type": "execute_result"
    }
   ],
   "source": [
    "scores[0]"
   ]
  },
  {
   "cell_type": "code",
   "execution_count": 538,
   "metadata": {},
   "outputs": [
    {
     "name": "stdout",
     "output_type": "stream",
     "text": [
      "0 1\n",
      "1 10\n",
      "2 100\n",
      "3 1000\n"
     ]
    }
   ],
   "source": [
    "for ind, i in enumerate(Cs):\n",
    "    print(ind,i)"
   ]
  },
  {
   "cell_type": "code",
   "execution_count": 599,
   "metadata": {},
   "outputs": [
    {
     "data": {
      "image/png": "[encoded data removed]",
      "text/plain": [
       "<matplotlib.figure.Figure at 0x118dd96a0>"
      ]
     },
     "metadata": {},
     "output_type": "display_data"
    }
   ],
   "source": [
    "for ind, i in enumerate(Cs):\n",
    "    plt.plot(Gammas, scores[ind], label='C: ' + str(i),alpha=0.8) # 會跑出4條線\n",
    "plt.legend()\n",
    "plt.savefig(\"test.eps\") # 輸出成向量圖的範例"
   ]
  },
  {
   "cell_type": "markdown",
   "metadata": {},
   "source": [
    "### RandomizedSearchCV for finding the best hyperparameters, say, Alpha in lasso linear regression"
   ]
  },
  {
   "cell_type": "code",
   "execution_count": 568,
   "metadata": {
    "collapsed": true
   },
   "outputs": [],
   "source": [
    "# 另一種parameter searching的方式。 優點是可以很有效率\n",
    "# 參考文件：http://scikit-learn.org/stable/modules/grid_search.html"
   ]
  },
  {
   "cell_type": "code",
   "execution_count": 571,
   "metadata": {
    "collapsed": true
   },
   "outputs": [],
   "source": [
    "from scipy.stats import randint as sp_randint # uniform discrete distribution"
   ]
  },
  {
   "cell_type": "code",
   "execution_count": null,
   "metadata": {
    "collapsed": true
   },
   "outputs": [],
   "source": [
    "# params 可以長這樣子\n",
    "param_dist = {\"n_estimators\": sp_randint (1, 11), \n",
    "                  \"max_depth\": [3, None],\n",
    "                  \"max_features\": sp_randint(1, 11),\n",
    "                  \"min_samples_split\": sp_randint(1, 11),\n",
    "                  \"min_samples_leaf\": sp_randint(1, 11),\n",
    "                 }"
   ]
  },
  {
   "cell_type": "code",
   "execution_count": 584,
   "metadata": {},
   "outputs": [],
   "source": [
    "g = sp_randint(1, 6)"
   ]
  },
  {
   "cell_type": "code",
   "execution_count": 594,
   "metadata": {},
   "outputs": [
    {
     "data": {
      "text/plain": [
       "array([5, 5])"
      ]
     },
     "execution_count": 594,
     "metadata": {},
     "output_type": "execute_result"
    }
   ],
   "source": [
    "g.rvs(2)  # random variate sample"
   ]
  },
  {
   "cell_type": "markdown",
   "metadata": {},
   "source": [
    "## L2 regularization / Ridge regression"
   ]
  },
  {
   "cell_type": "code",
   "execution_count": 567,
   "metadata": {
    "collapsed": true
   },
   "outputs": [],
   "source": [
    "# 和L1不同，不會讓係數為0，如果indept vars有highly correlated，結果相較穩定"
   ]
  },
  {
   "cell_type": "code",
   "execution_count": 600,
   "metadata": {
    "collapsed": true
   },
   "outputs": [],
   "source": [
    "from sklearn.linear_model import Ridge\n",
    "from sklearn.metrics import r2_score   # 大概就是R square\n",
    "size = 100"
   ]
  },
  {
   "cell_type": "code",
   "execution_count": 609,
   "metadata": {},
   "outputs": [
    {
     "name": "stdout",
     "output_type": "stream",
     "text": [
      "Random Seed 0\n",
      "Linear Model: 0.963 * X0 + 1.12 * X1 + 0.882 * X2\n",
      "Ridge Model: 0.961 * X0 + 1.116 * X1 + 0.88 * X2\n",
      "\n",
      "\n",
      "Random Seed 1\n",
      "Linear Model: 0.97 * X0 + 1.09 * X1 + 0.786 * X2\n",
      "Ridge Model: 0.968 * X0 + 1.086 * X1 + 0.784 * X2\n",
      "\n",
      "\n",
      "Random Seed 2\n",
      "Linear Model: 0.979 * X0 + 0.928 * X1 + 1.098 * X2\n",
      "Ridge Model: 0.978 * X0 + 0.925 * X1 + 1.093 * X2\n",
      "\n",
      "\n",
      "Random Seed 3\n",
      "Linear Model: 0.924 * X0 + 1.028 * X1 + 1.051 * X2\n",
      "Ridge Model: 0.92 * X0 + 1.026 * X1 + 1.049 * X2\n",
      "\n",
      "\n",
      "Random Seed 4\n",
      "Linear Model: 0.953 * X0 + 1.0 * X1 + 1.145 * X2\n",
      "Ridge Model: 0.952 * X0 + 0.997 * X1 + 1.141 * X2\n",
      "\n",
      "\n",
      "Random Seed 5\n",
      "Linear Model: 0.782 * X0 + 1.072 * X1 + 1.184 * X2\n",
      "Ridge Model: 0.783 * X0 + 1.068 * X1 + 1.18 * X2\n",
      "\n",
      "\n",
      "Random Seed 6\n",
      "Linear Model: 1.03 * X0 + 0.901 * X1 + 1.102 * X2\n",
      "Ridge Model: 1.027 * X0 + 0.899 * X1 + 1.099 * X2\n",
      "\n",
      "\n",
      "Random Seed 7\n",
      "Linear Model: 1.059 * X0 + 1.09 * X1 + 0.904 * X2\n",
      "Ridge Model: 1.055 * X0 + 1.085 * X1 + 0.904 * X2\n",
      "\n",
      "\n",
      "Random Seed 8\n",
      "Linear Model: 0.942 * X0 + 1.127 * X1 + 1.06 * X2\n",
      "Ridge Model: 0.941 * X0 + 1.124 * X1 + 1.057 * X2\n",
      "\n",
      "\n",
      "Random Seed 9\n",
      "Linear Model: 0.944 * X0 + 0.967 * X1 + 0.993 * X2\n",
      "Ridge Model: 0.941 * X0 + 0.963 * X1 + 0.992 * X2\n",
      "\n",
      "\n"
     ]
    }
   ],
   "source": [
    "for i in range(10):\n",
    "    print(\"Random Seed %s\"%i)\n",
    "    np.random.seed(seed=i)\n",
    "    \n",
    "    X_seed = np.random.normal(0,1,size)\n",
    "    x1 = X_seed + np.random.normal(0,1,size)\n",
    "    x2 = X_seed + np.random.normal(0,1,size)\n",
    "    x3 = X_seed + np.random.normal(0,1,size)\n",
    "    Y = x1+x2+x3 + np.random.normal(0,1,size)\n",
    "    x = np.array([x1,x2,x3]).T\n",
    "    \n",
    "    lr = LinearRegression()\n",
    "    lr.fit(x,Y)\n",
    "    print(\"Linear Model:\",pretty_print_linear(lr.coef_))\n",
    "    \n",
    "    ridge = Ridge(alpha=1)\n",
    "    ridge.fit(x,Y)\n",
    "    print(\"Ridge Model:\",pretty_print_linear(ridge.coef_))\n",
    "    \n",
    "    print(\"\\n\")"
   ]
  },
  {
   "cell_type": "code",
   "execution_count": 611,
   "metadata": {
    "collapsed": true
   },
   "outputs": [],
   "source": [
    "# As you can see from the example, the coefficients can vary widely for linear regression, depending on the generated data. \n",
    "# For L2 regularized model however, the coefficients are quite stable and closely reflect how the data was generated,\n",
    "# all coefficients close to 1.\n",
    "# 為何？ 我猜測可能是因為還有一個衰老項, gradient收斂比較快"
   ]
  },
  {
   "cell_type": "markdown",
   "metadata": {},
   "source": [
    "## 小結兩者功能：\n",
    "\n",
    "* Lasso 用來選 subset of features，因為她可以把某些係數變為0\n",
    "* Ridge 可用來解釋自變數和依變數的關係，因為他的係數相對穩定\n",
    "\n",
    "Since the relationship between the response variable and features in often non-linear, basis expansion can be used to convert features into a more suitable space, while keeping the simple linear models fully applicable.\n",
    "\n",
    "上面這小段指的 basis expansion就是 feature engineering, transformation\n"
   ]
  },
  {
   "cell_type": "code",
   "execution_count": null,
   "metadata": {
    "collapsed": true
   },
   "outputs": [],
   "source": []
  },
  {
   "cell_type": "markdown",
   "metadata": {},
   "source": [
    "# <font color=\"red\"> Part III: random forests </font>"
   ]
  },
  {
   "cell_type": "code",
   "execution_count": 2,
   "metadata": {
    "collapsed": true
   },
   "outputs": [],
   "source": [
    "# 有兩種篩選方法"
   ]
  },
  {
   "cell_type": "markdown",
   "metadata": {},
   "source": [
    "#### Mean decrease impurity"
   ]
  },
  {
   "cell_type": "code",
   "execution_count": 3,
   "metadata": {
    "collapsed": true
   },
   "outputs": [],
   "source": [
    "# 比較無法看出自變數、依變數之間的關係"
   ]
  },
  {
   "cell_type": "code",
   "execution_count": 4,
   "metadata": {
    "collapsed": true
   },
   "outputs": [],
   "source": [
    "#  With correlated features, strong features can end up with low scores and \n",
    "#  the method can be biased towards variables with many categories. "
   ]
  },
  {
   "cell_type": "code",
   "execution_count": 6,
   "metadata": {
    "collapsed": true
   },
   "outputs": [],
   "source": [
    "# sklearn的 rfc.important features_ 套件用的方法"
   ]
  },
  {
   "cell_type": "code",
   "execution_count": 26,
   "metadata": {},
   "outputs": [
    {
     "data": {
      "text/plain": [
       "RandomForestRegressor(bootstrap=True, criterion='mse', max_depth=None,\n",
       "           max_features='auto', max_leaf_nodes=None,\n",
       "           min_impurity_split=1e-07, min_samples_leaf=1,\n",
       "           min_samples_split=2, min_weight_fraction_leaf=0.0,\n",
       "           n_estimators=10, n_jobs=1, oob_score=False, random_state=None,\n",
       "           verbose=0, warm_start=False)"
      ]
     },
     "execution_count": 26,
     "metadata": {},
     "output_type": "execute_result"
    }
   ],
   "source": [
    "from sklearn.datasets import load_boston\n",
    "from sklearn.ensemble import RandomForestRegressor\n",
    "import numpy as np\n",
    "\n",
    "boston = load_boston()\n",
    "x = boston[\"data\"]\n",
    "y = boston[\"target\"]\n",
    "names = boston[\"feature_names\"]\n",
    "rf = RandomForestRegressor()\n",
    "rf.fit(x,y)\n"
   ]
  },
  {
   "cell_type": "code",
   "execution_count": 27,
   "metadata": {},
   "outputs": [
    {
     "name": "stdout",
     "output_type": "stream",
     "text": [
      "Features sorted by their score:\n",
      "[(0.41339999999999999, 'LSTAT'), (0.38890000000000002, 'RM'), (0.072099999999999997, 'DIS'), (0.026700000000000002, 'CRIM'), (0.025600000000000001, 'NOX'), (0.018800000000000001, 'PTRATIO'), (0.017899999999999999, 'TAX'), (0.015299999999999999, 'AGE'), (0.011299999999999999, 'B'), (0.0041999999999999997, 'INDUS'), (0.0038999999999999998, 'RAD'), (0.0012999999999999999, 'ZN'), (0.00050000000000000001, 'CHAS')]\n"
     ]
    }
   ],
   "source": [
    "print(\"Features sorted by their score:\")\n",
    "print(sorted(zip(map(lambda x: round(x,4),rf.feature_importances_),names), reverse=True)) # zip就是可以把多個lists合成1個list。"
   ]
  },
  {
   "cell_type": "markdown",
   "metadata": {
    "collapsed": true
   },
   "source": [
    "#### Mean decrease accuracy"
   ]
  },
  {
   "cell_type": "code",
   "execution_count": 1,
   "metadata": {
    "collapsed": true
   },
   "outputs": [],
   "source": [
    "# permute the values of each feature and\n",
    "# measure how much the permutation decreases the accuracy of the model"
   ]
  },
  {
   "cell_type": "code",
   "execution_count": 2,
   "metadata": {
    "collapsed": true
   },
   "outputs": [],
   "source": [
    "# 其實和 Mean decrease impurity差不多\n",
    "# 依然是無法比較出哪個變數比較重要，只能篩選出..可以做的變數。"
   ]
  },
  {
   "cell_type": "code",
   "execution_count": 26,
   "metadata": {},
   "outputs": [],
   "source": [
    "from sklearn.cross_validation import ShuffleSplit\n",
    "from sklearn.metrics import r2_score\n",
    "from collections import defaultdict    # 很好用的套件\n",
    "\n",
    "x = boston[\"data\"]\n",
    "y = boston[\"target\"]\n",
    "\n",
    "rf = RandomForestRegressor()\n",
    "scores = defaultdict(list)  # [('blue', [2, 4]), ('red', [1]), ('yellow', [1, 3])] 長這樣的型態"
   ]
  },
  {
   "cell_type": "code",
   "execution_count": 28,
   "metadata": {},
   "outputs": [
    {
     "name": "stdout",
     "output_type": "stream",
     "text": [
      "Features sorted by their score:\n",
      "[(0.73440000000000005, 'LSTAT'), (0.56559999999999999, 'RM'), (0.097299999999999998, 'DIS'), (0.043299999999999998, 'CRIM'), (0.024400000000000002, 'PTRATIO'), (0.017500000000000002, 'TAX'), (0.011900000000000001, 'AGE'), (0.0066, 'B'), (0.0061999999999999998, 'INDUS'), (0.0033999999999999998, 'RAD'), (0.00020000000000000001, 'CHAS'), (0.0001, 'ZN'), (-0.00040000000000000002, 'NOX')]\n"
     ]
    }
   ],
   "source": [
    "for train_idx, test_idx in ShuffleSplit(len(x),100, .3):  # 共有100份..就是100個iterations\n",
    "    X_train, X_test = x[train_idx],x[test_idx]\n",
    "    y_train, y_test = y[train_idx],y[test_idx]\n",
    "    r = rf.fit(X_train,y_train)\n",
    "    acc = r2_score(y_test,rf.predict(X_test))\n",
    "    for i in range(x.shape[1]):\n",
    "        x_t = X_test.copy()    # 用.copy()不會影響到用先的X_test\n",
    "        np.random.shuffle(x_t[:,i])    # scramle one of the features\n",
    "        shuffle_acc = r2_score(y_test,rf.predict(x_t))\n",
    "        scores[names[i]].append((acc-shuffle_acc)/acc)\n",
    "print(\"Features sorted by their score:\")\n",
    "print(sorted([ (round(np.mean(score),4),feat)  for feat,score in scores.items()], reverse=True))"
   ]
  },
  {
   "cell_type": "code",
   "execution_count": 29,
   "metadata": {
    "collapsed": true
   },
   "outputs": [],
   "source": [
    "# 注意這是建模之後才permute...故不能說如果少了LSTAT，就會少0.7344，因為其他correlated features會頂替他。"
   ]
  },
  {
   "cell_type": "code",
   "execution_count": null,
   "metadata": {
    "collapsed": true
   },
   "outputs": [],
   "source": []
  },
  {
   "cell_type": "markdown",
   "metadata": {},
   "source": [
    "#  <font color= \"red\"> Part IV: stability selection and RFE "
   ]
  },
  {
   "cell_type": "code",
   "execution_count": 32,
   "metadata": {
    "collapsed": true
   },
   "outputs": [],
   "source": [
    "# 嘗試克服上面幾種方法遇到的問題"
   ]
  },
  {
   "cell_type": "markdown",
   "metadata": {},
   "source": [
    "#### stability selection"
   ]
  },
  {
   "cell_type": "code",
   "execution_count": 40,
   "metadata": {
    "collapsed": true
   },
   "outputs": [],
   "source": [
    "# apply a feature selection algorithm on different subsets of data and with different subsets of features. \n",
    "# After repeating the process a number of times, the selection results can be aggregated, \n",
    "# for example by checking how many times a feature ended up being selected as important"
   ]
  },
  {
   "cell_type": "code",
   "execution_count": 41,
   "metadata": {
    "collapsed": true
   },
   "outputs": [],
   "source": [
    "from sklearn.linear_model import RandomizedLasso\n",
    "from sklearn.datasets import load_boston\n",
    "boston = load_boston()"
   ]
  },
  {
   "cell_type": "code",
   "execution_count": 42,
   "metadata": {},
   "outputs": [
    {
     "data": {
      "text/plain": [
       "RandomizedLasso(alpha=0.025, eps=2.2204460492503131e-16, fit_intercept=True,\n",
       "        max_iter=500, memory=Memory(cachedir=None), n_jobs=1,\n",
       "        n_resampling=200, normalize=True, pre_dispatch='3*n_jobs',\n",
       "        precompute='auto', random_state=None, sample_fraction=0.75,\n",
       "        scaling=0.5, selection_threshold=0.25, verbose=False)"
      ]
     },
     "execution_count": 42,
     "metadata": {},
     "output_type": "execute_result"
    }
   ],
   "source": [
    "x = boston[\"data\"]\n",
    "y = boston[\"target\"]\n",
    "names = boston[\"feature_names\"]\n",
    "\n",
    "rlasso = RandomizedLasso(alpha=0.025)\n",
    "rlasso.fit(x,y)"
   ]
  },
  {
   "cell_type": "code",
   "execution_count": 43,
   "metadata": {},
   "outputs": [
    {
     "name": "stdout",
     "output_type": "stream",
     "text": [
      "Features sorted by their score:\n",
      "[(1.0, 'RM'), (1.0, 'PTRATIO'), (1.0, 'LSTAT'), (0.70499999999999996, 'CHAS'), (0.58999999999999997, 'B'), (0.41999999999999998, 'CRIM'), (0.40000000000000002, 'TAX'), (0.22500000000000001, 'DIS'), (0.16, 'NOX'), (0.089999999999999997, 'INDUS'), (0.080000000000000002, 'ZN'), (0.02, 'RAD'), (0.0, 'AGE')]\n"
     ]
    }
   ],
   "source": [
    "print(\"Features sorted by their score:\")\n",
    "print(sorted(zip(map(lambda x: round(x,4), rlasso.scores_), names), reverse=True))"
   ]
  },
  {
   "cell_type": "markdown",
   "metadata": {},
   "source": [
    "#### Recursive feature elimination"
   ]
  },
  {
   "cell_type": "code",
   "execution_count": 34,
   "metadata": {
    "collapsed": true
   },
   "outputs": [],
   "source": [
    "# Recursive feature elimination is based on the idea to repeatedly construct a model \n",
    "# (for example an SVM or a regression model) and choose either the best or worst performing feature\n",
    "# (for example based on coefficients), setting the feature aside \n",
    "# and then repeating the process with the rest of the features. \n",
    "# This process is applied until all features in the dataset are exhausted. \n",
    "# Features are then ranked according to when they were eliminated. \n",
    "# As such, it is a greedy optimization for finding the best performing subset of features."
   ]
  },
  {
   "cell_type": "code",
   "execution_count": 35,
   "metadata": {
    "collapsed": true
   },
   "outputs": [],
   "source": [
    "# The stability of RFE depends heavily on the type of model that is used for feature ranking at each iteration"
   ]
  },
  {
   "cell_type": "code",
   "execution_count": 48,
   "metadata": {
    "collapsed": true
   },
   "outputs": [],
   "source": [
    "# Just as non-regularized regression can be unstable, so can RFE when utilizing it,\n",
    "# while using ridge regression can provide more stable results."
   ]
  },
  {
   "cell_type": "code",
   "execution_count": 75,
   "metadata": {},
   "outputs": [
    {
     "name": "stdout",
     "output_type": "stream",
     "text": [
      "Fitting estimator with 13 features.\n",
      "Fitting estimator with 12 features.\n",
      "Fitting estimator with 11 features.\n",
      "Fitting estimator with 10 features.\n",
      "Fitting estimator with 9 features.\n",
      "Fitting estimator with 8 features.\n",
      "Fitting estimator with 7 features.\n",
      "Fitting estimator with 6 features.\n",
      "Fitting estimator with 5 features.\n",
      "Fitting estimator with 4 features.\n",
      "Fitting estimator with 3 features.\n"
     ]
    },
    {
     "data": {
      "text/plain": [
       "RFE(estimator=LinearRegression(copy_X=True, fit_intercept=True, n_jobs=1, normalize=False),\n",
       "  n_features_to_select=2, step=1, verbose=1)"
      ]
     },
     "execution_count": 75,
     "metadata": {},
     "output_type": "execute_result"
    }
   ],
   "source": [
    "from sklearn.feature_selection import RFE\n",
    "from sklearn.linear_model import LinearRegression\n",
    " \n",
    "boston = load_boston()\n",
    "X = boston[\"data\"]\n",
    "Y = boston[\"target\"]\n",
    "names = boston[\"feature_names\"]\n",
    " \n",
    "#use linear regression as the model\n",
    "lr = LinearRegression()\n",
    "#rank all features, i.e continue the elimination until the last one\n",
    "rfe = RFE(lr, n_features_to_select=2, verbose=1)\n",
    "rfe.fit(X,Y)\n",
    "\n",
    "# 從verbose可以看到，每一次會剔除最差的，最後留下最重要的 k個。 k = n_features_to_select \n"
   ]
  },
  {
   "cell_type": "code",
   "execution_count": 74,
   "metadata": {
    "scrolled": true
   },
   "outputs": [
    {
     "name": "stdout",
     "output_type": "stream",
     "text": [
      "Features sorted by their rank:\n",
      "[(1, 'NOX'), (2, 'RM'), (3, 'CHAS'), (4, 'PTRATIO'), (5, 'DIS'), (6, 'LSTAT'), (7, 'RAD'), (8, 'CRIM'), (9, 'INDUS'), (10, 'ZN'), (11, 'TAX'), (12, 'B'), (13, 'AGE')]\n"
     ]
    }
   ],
   "source": [
    "print(\"Features sorted by their rank:\")\n",
    "print(sorted(zip(map(lambda x: round(x, 4), rfe.ranking_), names)))"
   ]
  },
  {
   "cell_type": "code",
   "execution_count": null,
   "metadata": {
    "collapsed": true
   },
   "outputs": [],
   "source": []
  },
  {
   "cell_type": "markdown",
   "metadata": {},
   "source": [
    "#  <font color= \"red\"> everything side by side </font>"
   ]
  },
  {
   "cell_type": "code",
   "execution_count": 97,
   "metadata": {
    "collapsed": true
   },
   "outputs": [],
   "source": [
    "# must read !!!\n",
    "\n",
    "# http://blog.datadive.net/selecting-good-features-part-iv-stability-selection-rfe-and-everything-side-by-side/"
   ]
  },
  {
   "cell_type": "code",
   "execution_count": null,
   "metadata": {
    "collapsed": true
   },
   "outputs": [],
   "source": []
  },
  {
   "cell_type": "code",
   "execution_count": null,
   "metadata": {
    "collapsed": true
   },
   "outputs": [],
   "source": []
  }
 ],
 "metadata": {
  "kernelspec": {
   "display_name": "Python 3",
   "language": "python",
   "name": "python3"
  },
  "language_info": {
   "codemirror_mode": {
    "name": "ipython",
    "version": 3
   },
   "file_extension": ".py",
   "mimetype": "text/x-python",
   "name": "python",
   "nbconvert_exporter": "python",
   "pygments_lexer": "ipython3",
   "version": "3.6.1"
  }
 },
 "nbformat": 4,
 "nbformat_minor": 1
}
